{
 "cells": [
  {
   "cell_type": "code",
   "execution_count": 43,
   "id": "2e970664-a8c9-4586-acbc-41e8f25cc290",
   "metadata": {},
   "outputs": [
    {
     "name": "stdin",
     "output_type": "stream",
     "text": [
      "Enter a String: the quick brown fox\n"
     ]
    },
    {
     "name": "stdout",
     "output_type": "stream",
     "text": [
      "[]\n"
     ]
    }
   ],
   "source": [
    "def panagram(string):\n",
    "\n",
    "    letters=[\"abcdefghijklmnopqrstuvwxyz\"]\n",
    "    l=[]\n",
    "    for i in string:\n",
    "        i=l\n",
    "    if l not in letters:\n",
    "        print(l)\n",
    "\n",
    "panagram(input(\"Enter a String:\"))"
   ]
  },
  {
   "cell_type": "code",
   "execution_count": null,
   "id": "fddffb5c-9632-40be-b737-74a44b21421e",
   "metadata": {},
   "outputs": [],
   "source": [
    "the quick brown fox"
   ]
  },
  {
   "cell_type": "code",
   "execution_count": 41,
   "id": "cadd3623-101e-457c-8a89-f635b016fcda",
   "metadata": {},
   "outputs": [
    {
     "name": "stdout",
     "output_type": "stream",
     "text": [
      "---------------MENU---------------\n",
      "1. add Product\n",
      "2. delete Product\n",
      "3. list Products\n",
      "4. Update Products\n"
     ]
    },
    {
     "name": "stdin",
     "output_type": "stream",
     "text": [
      "Enter choice: \n"
     ]
    },
    {
     "ename": "ValueError",
     "evalue": "invalid literal for int() with base 10: ''",
     "output_type": "error",
     "traceback": [
      "\u001b[1;31m---------------------------------------------------------------------------\u001b[0m",
      "\u001b[1;31mValueError\u001b[0m                                Traceback (most recent call last)",
      "Cell \u001b[1;32mIn[41], line 42\u001b[0m\n\u001b[0;32m     39\u001b[0m \u001b[38;5;28mprint\u001b[39m(\u001b[38;5;124m\"\u001b[39m\u001b[38;5;124m3. list Products\u001b[39m\u001b[38;5;124m\"\u001b[39m)\n\u001b[0;32m     40\u001b[0m \u001b[38;5;28mprint\u001b[39m(\u001b[38;5;124m\"\u001b[39m\u001b[38;5;124m4. Update Products\u001b[39m\u001b[38;5;124m\"\u001b[39m)\n\u001b[1;32m---> 42\u001b[0m ch\u001b[38;5;241m=\u001b[39m\u001b[38;5;28mprint\u001b[39m(\u001b[38;5;28;43mint\u001b[39;49m\u001b[43m(\u001b[49m\u001b[38;5;28;43minput\u001b[39;49m\u001b[43m(\u001b[49m\u001b[38;5;124;43m\"\u001b[39;49m\u001b[38;5;124;43mEnter choice:\u001b[39;49m\u001b[38;5;124;43m\"\u001b[39;49m\u001b[43m)\u001b[49m\u001b[43m)\u001b[49m)\n\u001b[0;32m     44\u001b[0m \u001b[38;5;28;01mif\u001b[39;00m ch\u001b[38;5;241m==\u001b[39m\u001b[38;5;241m1\u001b[39m:\n\u001b[0;32m     45\u001b[0m     \u001b[38;5;28;01mdef\u001b[39;00m\u001b[38;5;250m \u001b[39m\u001b[38;5;21madd_product\u001b[39m():\n",
      "\u001b[1;31mValueError\u001b[0m: invalid literal for int() with base 10: ''"
     ]
    }
   ],
   "source": [
    "product_count=0\n",
    "quantity_count=0\n",
    "\n",
    "inventory={}\n",
    "\n",
    "def add_product():\n",
    "    p_id=202501\n",
    "    #name.append(data)=input(\"Enter the name of product\")\n",
    "    category=input(\"Enter the category of product\")\n",
    "    price=input(\"Enter the price of product\")\n",
    "    quantity=input(\"Enter the quantity of product\")\n",
    "    data=[]\n",
    "    \n",
    "    if price>0 and quantity>0:\n",
    "        data=data.key(values)\n",
    "    else:\n",
    "        print(\"value cannot be -ve or 0\")\n",
    "    p_id+=1\n",
    "\n",
    "def list_data():\n",
    "    id = input(\"enter product id\")\n",
    "    if data[key] in inventory:\n",
    "        print(data.inventory[key])\n",
    "    else:\n",
    "        print(\"product doesn't exist\")\n",
    "\n",
    "def delete():\n",
    "    id = input(\"enter product id\")\n",
    "    if data[key] in inventory:\n",
    "        data=inventory[key].pop\n",
    "    print(\"data deleted succesfully\")\n",
    "\n",
    "    \n",
    "\n",
    "while True:\n",
    "    print(\"---------------MENU---------------\")\n",
    "    print(\"1. add Product\")\n",
    "    print(\"2. delete Product\")\n",
    "    print(\"3. list Products\")\n",
    "    print(\"4. Update Products\")\n",
    "\n",
    "    ch=print(int(input(\"Enter choice:\")))\n",
    "\n",
    "    if ch==1:\n",
    "        add_product()\n",
    "            \n",
    "            print(\"product added successfully\")\n",
    "    elif ch==2:\n",
    "        delete():\n",
    "            print(\"data deleted successfully\")\n",
    "        \n",
    "    elif ch==3:\n",
    "        list_data():\n",
    "            print(\"listed data\")\n",
    "    elif ch==4:\n",
    "        pass\n",
    "    elif ch==0:\n",
    "        print(\"-------summary--------\")\n",
    "        print(f'product {product} , {price} x {quantity} = {price*quantity}')\n",
    "        print(\"Total sale for the day is \",total _sales)\n",
    "        \n",
    "        break\n",
    "    else:\n",
    "        print(\"invalid choice\")\n",
    "        \n",
    "total_sales=product(price)*product(quantity)\n",
    "\n",
    "\n",
    "\n",
    "    \n",
    "    "
   ]
  },
  {
   "cell_type": "code",
   "execution_count": null,
   "id": "832acdc8-bfac-410c-ad33-dab134d54e67",
   "metadata": {},
   "outputs": [],
   "source": [
    "with open(\"inventory.txt\",\"w\") as file:\n",
    "with open(\"incentory.txt\",\"r\") as fileread:\n",
    "    \n",
    "    while True:\n",
    "        line=input(\"enter data :\")\n",
    "        data=[]\n",
    "        if data==\"\":\n",
    "            break\n",
    "        else:\n",
    "            data=write.line(data)\n",
    "\n",
    "    while True:\n",
    "        if data==\"\"\n",
    "            break\n",
    "        else :\n",
    "        fileread=data.readlines()\n",
    "    print(inventory{})\n",
    "    "
   ]
  }
 ],
 "metadata": {
  "kernelspec": {
   "display_name": "Python 3 (ipykernel)",
   "language": "python",
   "name": "python3"
  },
  "language_info": {
   "codemirror_mode": {
    "name": "ipython",
    "version": 3
   },
   "file_extension": ".py",
   "mimetype": "text/x-python",
   "name": "python",
   "nbconvert_exporter": "python",
   "pygments_lexer": "ipython3",
   "version": "3.13.2"
  }
 },
 "nbformat": 4,
 "nbformat_minor": 5
}
